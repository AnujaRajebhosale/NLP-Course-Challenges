{
 "cells": [
  {
   "cell_type": "code",
   "execution_count": 1,
   "metadata": {},
   "outputs": [
    {
     "name": "stdout",
     "output_type": "stream",
     "text": [
      "All Packages Imported!!\n"
     ]
    }
   ],
   "source": [
    "##Import Requried Packages\n",
    "import nltk\n",
    "# nltk.download('all')\n",
    "from nltk.tokenize import word_tokenize \n",
    "import pandas as pd\n",
    "print(\"All Packages Imported!!\")"
   ]
  },
  {
   "cell_type": "code",
   "execution_count": 2,
   "metadata": {},
   "outputs": [
    {
     "data": {
      "text/html": [
       "<div>\n",
       "<style scoped>\n",
       "    .dataframe tbody tr th:only-of-type {\n",
       "        vertical-align: middle;\n",
       "    }\n",
       "\n",
       "    .dataframe tbody tr th {\n",
       "        vertical-align: top;\n",
       "    }\n",
       "\n",
       "    .dataframe thead th {\n",
       "        text-align: right;\n",
       "    }\n",
       "</style>\n",
       "<table border=\"1\" class=\"dataframe\">\n",
       "  <thead>\n",
       "    <tr style=\"text-align: right;\">\n",
       "      <th></th>\n",
       "      <th>TicketId</th>\n",
       "      <th>Description</th>\n",
       "    </tr>\n",
       "  </thead>\n",
       "  <tbody>\n",
       "    <tr>\n",
       "      <th>0</th>\n",
       "      <td>1</td>\n",
       "      <td>Job re-run</td>\n",
       "    </tr>\n",
       "    <tr>\n",
       "      <th>1</th>\n",
       "      <td>2</td>\n",
       "      <td>Job Re-Run</td>\n",
       "    </tr>\n",
       "    <tr>\n",
       "      <th>2</th>\n",
       "      <td>3</td>\n",
       "      <td>the job failed due to row count mismatch betwe...</td>\n",
       "    </tr>\n",
       "    <tr>\n",
       "      <th>3</th>\n",
       "      <td>4</td>\n",
       "      <td>Job got failed due to name pipe error. Then jo...</td>\n",
       "    </tr>\n",
       "    <tr>\n",
       "      <th>4</th>\n",
       "      <td>5</td>\n",
       "      <td>Job got failed due to duplicate issue. Then is...</td>\n",
       "    </tr>\n",
       "  </tbody>\n",
       "</table>\n",
       "</div>"
      ],
      "text/plain": [
       "   TicketId                                        Description\n",
       "0         1                                         Job re-run\n",
       "1         2                                         Job Re-Run\n",
       "2         3  the job failed due to row count mismatch betwe...\n",
       "3         4  Job got failed due to name pipe error. Then jo...\n",
       "4         5  Job got failed due to duplicate issue. Then is..."
      ]
     },
     "execution_count": 2,
     "metadata": {},
     "output_type": "execute_result"
    }
   ],
   "source": [
    "#Read csv using Pandas\n",
    "data=pd.read_csv(\"./ticket_Data.csv\")  \n",
    "data.head()"
   ]
  },
  {
   "cell_type": "code",
   "execution_count": 3,
   "metadata": {},
   "outputs": [
    {
     "name": "stdout",
     "output_type": "stream",
     "text": [
      "Length of Vocabulary BEFORE removing duplicates:  82447\n",
      "\n",
      "Length of Vocabulary AFTER removing duplicates:  931\n",
      "\n",
      "Final Vocabulary List: \n",
      " ['job', 're-run', 'the', 'failed', 'due', 'to', 'row', 'count', 'mismatch', 'between', 'source', 'file', 'and', 'ods', 'table', '.', 'we', 'have', 'requested', 'team', 'place', 'files', 'again', 'completed', 'after', 'placing', 'in', 'path', 'got', 'name', 'pipe', 'error', 'then', 'was', 're-started', 'successfully', 'duplicate', 'issue', 'fixed', 'once', 'on', 'unavailability', 're', 'started', 'ran', 'rerun', 'tdata', 'connectivity', 'has', 'been', 'hadoop', 'database', 'abended', 'data', 'manually', 'restarted', 'as', 'are', 'not', 'available', ',', 'it', 'executed', 'there', 'an', 'with', 'td', 'upgrade', 'fix', 'later', 'provided', 'by', 'dba', 'which', 'jobs', 'named', 'lock', 'released', 'is', 'no', 'schedules', 'were', 'kept', 'hold', 'didnt', 'run', 'for', 'past', 'few', 'days', 'unavailaility', 'hence', 'received', 'deadline', 'alert', 'same', 'self-lock', 'running', 'query', 'login', 'time', 'out', 'load', 'box', 'reexecuted', 'reduced', 're-executed', 'log', 'error.we', 'cancelled', 'day', 'receiving', 'records', '.we', 'deleteing', 'invalid', 'collect', 'stats', 'done', 'killed', 'hanged', 'long', 'schedule', 'triggered', 'wrongly', 'so', 'occured', 'happened', 'provide', 'format', 'oraacle', 'down', 'will', 'be', 'oracle', 'server', 'unavailable', 'updated', 'successful', 're-running', 'next', \"'s\", 'backup', 'batch', 'covered', 'all', 'backlogs', 'null', 'value', 'marked', 'duplicates', 'found', 'placed', 'issues', 'confirmed', 'at', 'backend', 'isue', 'trigerred', 'aborted', 'brj', 'up', 'entry', 'r', 'status', 'f', 'of', 'back', 'end', 'self', 'occurred', 'script', 'tbload.it', 'successfulll', 'releasing', 'tbload', 'process', 'state', 'failure', 'dupllicate/null/invalid', 'outage', 'compelted', 'unailability', 'connection', 're-', 'duplicate/null/invalid', 'low', 'disk', 'space', '(', 'i.e', 'duplicates/null', 'values/invalid', ')', 'values', 're-execution', 'over', 'weekend', 'processed', 'incorrect', 'stream', 'closure', 'timeeout', 'existence', 'bad', 'character', 'successfull', 'reran', 'avaialble', 'succefully', 'rerunning', 'timed', 'scheduls', 'held', 'performance', 'batches', 'enxt', 'issue.it', 'resolved', 'succesfully', 're-executing', 'connecitivity', 'issuee', 'contacted', 'field.we', 'deleting', 'sucecssfully', 'error.completed', 'a', 'part', 'reference', 'removed', 'log-in', 'resoved', 'adn', 'during', 'skipped', 'continued', 'trigger', 'production', 'falied', 'fixing', 'success', 'wass', 'he', 'namepipe', 'tods', 'duplicate/null', 'values/', 'level', 'missing', 'or', 'from', 'leads', 'update', 'query.we', 'changed', 'backened', 'than', 'usual', 'able', 'connect', 'system', 'bee', 'deleted', 'dependent', 'over-running', 'breached', 'completing', 'late', 'time-out', 'dead', 'this', 'creating', 'new', 'user', 'arm', 'frond', 'w.r.to', 'cmd', 'tool', 'locked', 'dropped', 'temp', 'moved', 'archieval', 'arrival', 'issue.the', 'timeout', 'unavailability.this', 'recieved', 'abend', 'clocing', 'teh', 'incident', 'target', 'validation', 'succesful', 'spool', 'db', 'unavailability.the', 'corrected', 'made', 'comfirmed', 'loaded', 'connectivty', 'sp', 'removing', 'extra', 'succcessfully', 'error.then', 'free', 'release', 'getting', 'extraction', 'cancelling', 'ambiguos', 'incorrectly', 'execueted', 'wnash', 'access', 'active', 'arrived', 'area', 'completeled', 'changing', '&', 'hene', 'canceelled', 'locked.completed', 'loack', 'error.re-executed', 'm', 'called', 'support', 'closing', 'issue.completed', 'validity.the', 're-reran', 'con', 'sulting', 'team.the', 'unlinked', 'udated', 'instance', 'still', 'closed', 'substitution', 'parameter', 'runon', 'sundays.it', 'availability', 'bandwidth', 'tanle', 'triggred', 'maestro', 'unavailability.it', 'disconnected', 'liasing', 'th', '>', 'stop', 'permanent', 'planned', 'activity', 'carried', 'under', 'csi', 'task', 'csitask00001054', 're-ran', 'since', 'events', 'lh', 'batched', 'them', 'executing', 'undergoing', 'some', 'when', 'thsi', 'switchedoff', 'two', 'scheduled', 'today', 'login-timeout', 'connecitvity', 'theen', 'out..', 'rsolved', 'longer', 'faield', 'delated', 'while', 'moving', 'loacked', 'archieve', 'relelased', 'lcok', 'duee', 'fixeed', 'completeed', 'close', 'successfulyy', 'dupliacates', 'dupliactes', 'issue.deleted', 'rfc', 'connectivitity', 'exception', 'already', 'thus', 'they', 'ststs', 'collected', 'lock.script', 'jo', 'communication', 'failure.completed', 'unavailbility', 'complted', 'console', 'delay', 'duplciates', 'updating', 'issue.we', 'clearing', 'self-locked', 'previous', 'duplicates.completed', 'unique', 'constraint', 'violated', 'dauplicate', 'runningthe', 'contains', 'unwanted', 'definition', 'main', 'steps', 'ignored', 'step', 'reun', 'actvitiy', 'please', 'dont', 'raise', 'such', 'application', 'side', 're-runing', 'warranty', 'scripts', 'looking', 'into', 'ffixed', 'moload', 'expired', 'tables', 'little', 'slow', 'large', 'users', 'backlog', 'cleared', 're-exection', 'did', 'complete', 'staging', 'record', 'session', 'blocked', 'checked', 'date', 'blocking', 'other', 'queries.the', 'huge', 'volume', 'need', 'shcdule', 'cpmp', '[', 'leted', 'now', 'timestam.the', 'correct', 'stamp', 'job.the', '.which', '.the', 'resolving', 'file.source', 'sent', 'lock.completed', 'because', 'event', 'created', 'adhoc', 'environment', 'slef', 'successfullly', 'get', 'attribute', 'edw', 'start', 'raising', 'had', 'overrunning', 'reached', 'successully', 'issue.job', 'receving', 'id', 'values.the', 'enviroment', 'middle', 're-excecuted', 'completed.succesfully', 'link', 'brj.we', 'entries', 'handled', 'processing', 'based', 'conneection', 'lost', 'root', 'assignement', 'our', 'queue', 'monthly', 'whenever', 'its', 'needed', 'etq', 'one', 'correctly', 'move', 'chnage', 'piped', 'runnng', 'isuse', 're-processed', 'completd', 'managing', 'raised', 'ticket', 'delted', 'monday', 'weekly', 'isssue', 'solved', 'scheduler', 'ssis', 'related', 'crm', 'liaising', 'dev/source', 'oout', 'failed.tods', 'erro', 'aaraise', 'only', 'if', 'wehave', 'side.so', 'lockout', 'reesolved', 'but', '.this', 'terminated', 'scope', 'bw', 'dev', 'correcting', 'named-pipe', 'withsource', 'locking', 'reprocessed', 'disabled', 'request', '-', '1', 'hr', 'triggering', 'decommissioned', 'another', 'copied', 'customer', \"n't\", 'hang', 'help', 'went', 'ot', 'unknown', 'backed', 'room', 'tmp', 'adding', 'brj.this', '99', 'restart', 'first', 'issue.didnt', 'brj.re-executed', 'along', 'audit', 'using', 'datafix', 'issue.on', 'manullay', 'inserted', 'numeric', 'overflow', 'working', 'my', 'reerun', 'reraun', 'pending', 'team.once', 'procedd', 'ems/dev', '5', 'minutes', 'discussion', 'todays', 'issue.executed', 'unavailaibilty', 'duplicates.so', 'intimated', 'file.we', 'housekeeping', 'base', 'timed-out', '20:00', '20:55', 'bst', 'services', 'admin', 'field', 'liaisng', 'development', 'informing', 'wrong', 'ems', 'address', 'deadlines', 'tns', 'listener', 'progressing', 'slowly', 'nad', 'nextday', 'put', 'resend', 're-processing', 'per', 'business', 'liainsing', 'td/tods', '3', 'causing', 'taking', 'more', 'three', 'exeception', 'satging', 'every', 'week', 'order', 'avoid', 'brite', 'on-rerunning', 'liaise', 'sml', 'continue', '--', 'isse', 'particular', 'cleansed', 'fixe', 'open', 'hub', 'gets', 'delayed', 'completion', '3days', 'd', 'bi', '4:15', 'am', 'reboot', 'unlink', 'currently', 'investigating', 'reexecuting', 'jobfailed', 'procedure', 'mannaully', 'reset', 'parsing', 'column', 'restarte', 'schedulre', 'jon', 'successfuly', 'cm', 'deployment', 'issue.killed', 'matching', 'house', 'keeping', 'progress', 'addressed', 'carry', '0kb', 'reprocess', 'jot', 'failed.so', 'sql', 'wapph005p01', 'accessible', 'present', 'sleep', 'mannualy', 'collecting', 'fast', 're-created', 'allocated', 'manaully', 'stamp.we', 'effected', '@', '``', \"''\", 'beacon', 'hdp', 'complex', 'immediately', 'required', 'initial', 'catch', 'canceled', 'tomorrow', '.i.e', 'insert', 'lock.we', 'jib', 'transform', 'erred', 'hours', 'releases', 'liase', 'brp', 'sequentially', 'unavailibilty', 'corresponding', 'previos', 'current', 'mdl', 'parallel', 'daily', 'seperately', 'tried', 'command', 'line', 'sucessful', 'marking', 'inbrj', 'full', 'extractor', 'having', 'occuured', 'succssfully', 'manual', 'run.we', 'change', 'rectify', 'acttioned', 'accordingly', 'c', 'replacing', 'issus', 'responding', 'site', 'that', 'liainsg', 'providing', 'suceessfully', 'receive', 'regular', 'basis', '21', 'needs', 'devteam', 'stuck', 'set', 'extracted', 'validataion', 'properly', 'without', 'resolve', ';', 'dependency', 'applications', 'laising', 'inlast', 'redwood', 'sucessfully', 'following', 'informed', 'liainsfg', 'reprocssed', 'gludad', 'schdelue', 'news', 'added', 'lapsed', 'contract', 'patching.previsouly', 'triigered', 'via', 'these', 'management', 'console.so', 'fail', 'affceting', 'ths', 'maid', 'qac', 'quotes', 'held.now', 'execute', 'feed', 'used', 'schedueler', 'trigfered', 'collects', 'let', 'qas', 'tbloaded', 'cluster', 'manage', 'effectiveness', 'incoorect', 'teradtaa', 'ws', 'look', 'successfully.after', 'datetime', 'pulled', 'unzipping', 'file.the', 'tbuild', 'older', 'sessions', 'mismatch.have', 'scuessfully', 'rexecuted', 'sbi', 'thanks', 'nagapriya', 'reporcessed', 'unavailablitiy', 'steam', 'mlock', 'less', 'edwprdt_tmp', 'pointing', 'beacuse', 'issue.this', 'longrunning', 'timestamp', 'dataa', 'deletion', 'mloa', 'dissue', 'reurn', 'manully', 'reprcessed', 'sorted', 'completely', 'dead-lock', 'td/bod', 'yesterday', 'clear', 'ans', 'ftp', 'transfer', 'transferred', 'delay.success', 'action', 'file.hence', 'failed.success', 'rr11', 'asked', 'details', 'until', '0', 'kb', 'saa', 'warnings', 'increasing', 'alerts', 'given', 'kill', 'high', 'cpu', 'usage', 'eg', 'warning', 'incidents', 'input', 'tea', 'increase', 'sas', 'rr12', 'arrival.success', '/sas/data/work/', '20', '%', 'host', 'key', 'jopb', 'sucessfun', 'delete', 'yet', 'file.success', 'dataset', 'locekd']\n"
     ]
    }
   ],
   "source": [
    "#Save Description column to a variable\n",
    "description=data['Description']\n",
    "                 \n",
    "#Apply Word Tokenization on every row of the Description column\n",
    "vocabularyList = [ word_tokenize( str(sentence) ) for sentence in description ]\n",
    "                 \n",
    "#Flat out the list of lists\n",
    "vocabulary = [item.lower() for sublist in vocabularyList for item in sublist]\n",
    "                 \n",
    "print(\"Length of Vocabulary BEFORE removing duplicates: \", len(vocabulary))\n",
    "#Remove Duplicate tokens\n",
    "vocabulary = list(dict.fromkeys(vocabulary))\n",
    "print(\"\\nLength of Vocabulary AFTER removing duplicates: \", len(vocabulary))\n",
    "\n",
    "#Final Vocabulary                 \n",
    "print(\"\\nFinal Vocabulary List: \\n\", vocabulary)"
   ]
  }
 ],
 "metadata": {
  "kernelspec": {
   "display_name": "Python 3",
   "language": "python",
   "name": "python3"
  },
  "language_info": {
   "codemirror_mode": {
    "name": "ipython",
    "version": 3
   },
   "file_extension": ".py",
   "mimetype": "text/x-python",
   "name": "python",
   "nbconvert_exporter": "python",
   "pygments_lexer": "ipython3",
   "version": "3.6.8"
  }
 },
 "nbformat": 4,
 "nbformat_minor": 2
}
